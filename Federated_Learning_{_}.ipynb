{
  "nbformat": 4,
  "nbformat_minor": 0,
  "metadata": {
    "colab": {
      "name": "Federated Learning {...}",
      "version": "0.3.2",
      "provenance": [],
      "collapsed_sections": [],
      "toc_visible": true
    },
    "kernelspec": {
      "name": "python3",
      "display_name": "Python 3"
    },
    "accelerator": "GPU"
  },
  "cells": [
    {
      "cell_type": "code",
      "metadata": {
        "id": "l7loE4QB8lM6",
        "colab_type": "code",
        "outputId": "299516e3-ce92-4c5d-fed5-2cbb59158d57",
        "colab": {
          "base_uri": "https://localhost:8080/",
          "height": 222
        }
      },
      "source": [
        "!pip install git+https://github.com/tensorflow/privacy"
      ],
      "execution_count": 0,
      "outputs": [
        {
          "output_type": "stream",
          "text": [
            "Collecting git+https://github.com/tensorflow/privacy\n",
            "  Cloning https://github.com/tensorflow/privacy to /tmp/pip-req-build-ek534jqi\n",
            "  Running command git clone -q https://github.com/tensorflow/privacy /tmp/pip-req-build-ek534jqi\n",
            "Requirement already satisfied (use --upgrade to upgrade): privacy==0.0.1 from git+https://github.com/tensorflow/privacy in /usr/local/lib/python3.6/dist-packages\n",
            "Requirement already satisfied: scipy>=0.17 in /usr/local/lib/python3.6/dist-packages (from privacy==0.0.1) (1.3.0)\n",
            "Requirement already satisfied: mpmath in /usr/local/lib/python3.6/dist-packages (from privacy==0.0.1) (1.1.0)\n",
            "Requirement already satisfied: numpy>=1.13.3 in /usr/local/lib/python3.6/dist-packages (from scipy>=0.17->privacy==0.0.1) (1.16.4)\n",
            "Building wheels for collected packages: privacy\n",
            "  Building wheel for privacy (setup.py) ... \u001b[?25l\u001b[?25hdone\n",
            "  Stored in directory: /tmp/pip-ephem-wheel-cache-25zhpzwb/wheels/8a/e4/14/41d16468ac11ec804bd21cfb75fc2e24f96b9e4c5af778f576\n",
            "Successfully built privacy\n"
          ],
          "name": "stdout"
        }
      ]
    },
    {
      "cell_type": "code",
      "metadata": {
        "colab_type": "code",
        "id": "ZrGitA_KnRO0",
        "colab": {}
      },
      "source": [
        "#@test {\"skip\": true}\n",
        "\n",
        "# NOTE: If you are running a Jupyter notebook, and installing a locally built\n",
        "# pip package, you may need to edit the following to point to the '.whl' file\n",
        "# on your local filesystem.\n",
        "\n",
        "!pip install --quiet tensorflow_federated\n",
        "!pip install --quiet  tf-nightly\n",
        "#!pip install tensorflow==2.0.0-alpha0"
      ],
      "execution_count": 0,
      "outputs": []
    },
    {
      "cell_type": "code",
      "metadata": {
        "id": "fYf1dhlj8or_",
        "colab_type": "code",
        "colab": {}
      },
      "source": [
        ""
      ],
      "execution_count": 0,
      "outputs": []
    },
    {
      "cell_type": "code",
      "metadata": {
        "colab_type": "code",
        "id": "8BKyHkMxKHfV",
        "outputId": "ace7fb36-5ae8-41e0-8580-1b1b1345a515",
        "colab": {
          "base_uri": "https://localhost:8080/",
          "height": 34
        }
      },
      "source": [
        "from __future__ import absolute_import, division, print_function\n",
        "\n",
        "import collections\n",
        "from privacy.optimizers import dp_optimizer\n",
        "from privacy.optimizers.dp_optimizer import make_optimizer_class, DPAdamOptimizer\n",
        "from six.moves import range\n",
        "import numpy as np\n",
        "import tensorflow as tf\n",
        "\n",
        "import tensorflow_federated as tff\n",
        "\n",
        "np.random.seed(0)\n",
        "\n",
        "tf.compat.v1.enable_v2_behavior()\n",
        "\n",
        "tff.federated_computation(lambda: 'Hello, World!')()"
      ],
      "execution_count": 0,
      "outputs": [
        {
          "output_type": "execute_result",
          "data": {
            "text/plain": [
              "'Hello, World!'"
            ]
          },
          "metadata": {
            "tags": []
          },
          "execution_count": 50
        }
      ]
    },
    {
      "cell_type": "code",
      "metadata": {
        "colab_type": "code",
        "id": "NayDhCX6SjwE",
        "colab": {}
      },
      "source": [
        "#@test {\"output\": \"ignore\"}\n",
        "emnist_train, emnist_test = tff.simulation.datasets.emnist.load_data()"
      ],
      "execution_count": 0,
      "outputs": []
    },
    {
      "cell_type": "code",
      "metadata": {
        "colab_type": "code",
        "id": "kN4-U5nJgKig",
        "outputId": "bcba6b1f-fe18-40b4-ef15-f42031f8a572",
        "colab": {
          "base_uri": "https://localhost:8080/",
          "height": 34
        }
      },
      "source": [
        "len(emnist_train.client_ids)"
      ],
      "execution_count": 0,
      "outputs": [
        {
          "output_type": "execute_result",
          "data": {
            "text/plain": [
              "3383"
            ]
          },
          "metadata": {
            "tags": []
          },
          "execution_count": 52
        }
      ]
    },
    {
      "cell_type": "code",
      "metadata": {
        "colab_type": "code",
        "id": "ZyCzIrSegT62",
        "outputId": "aa5b5e64-1ae3-4163-9749-c78b7e3c8344",
        "colab": {
          "base_uri": "https://localhost:8080/",
          "height": 50
        }
      },
      "source": [
        "emnist_train.output_types, emnist_train.output_shapes"
      ],
      "execution_count": 0,
      "outputs": [
        {
          "output_type": "execute_result",
          "data": {
            "text/plain": [
              "(OrderedDict([('label', tf.int32), ('pixels', tf.float32)]),\n",
              " OrderedDict([('label', TensorShape([])), ('pixels', TensorShape([28, 28]))]))"
            ]
          },
          "metadata": {
            "tags": []
          },
          "execution_count": 53
        }
      ]
    },
    {
      "cell_type": "code",
      "metadata": {
        "colab_type": "code",
        "id": "EsvSXGEMgd9G",
        "outputId": "09efc56d-d842-44c6-cd9e-ee3562f778e1",
        "colab": {
          "base_uri": "https://localhost:8080/",
          "height": 34
        }
      },
      "source": [
        "example_dataset = emnist_train.create_tf_dataset_for_client(\n",
        "    emnist_train.client_ids[0])\n",
        "\n",
        "example_element = iter(example_dataset).next()\n",
        "\n",
        "example_element['label'].numpy()"
      ],
      "execution_count": 0,
      "outputs": [
        {
          "output_type": "execute_result",
          "data": {
            "text/plain": [
              "5"
            ]
          },
          "metadata": {
            "tags": []
          },
          "execution_count": 54
        }
      ]
    },
    {
      "cell_type": "code",
      "metadata": {
        "colab_type": "code",
        "id": "OmLV0nfMg98V",
        "outputId": "b5d9c4c1-3f1b-4595-88ec-a5a5d6f28b2f",
        "colab": {
          "base_uri": "https://localhost:8080/",
          "height": 319
        }
      },
      "source": [
        "#@test {\"output\": \"ignore\"}\n",
        "from matplotlib import pyplot as plt\n",
        "plt.imshow(example_element['pixels'].numpy(), cmap='gray', aspect='equal')\n",
        "plt.grid('off')\n",
        "_ = plt.show()"
      ],
      "execution_count": 0,
      "outputs": [
        {
          "output_type": "stream",
          "text": [
            "/usr/local/lib/python3.6/dist-packages/matplotlib/cbook/__init__.py:424: MatplotlibDeprecationWarning: \n",
            "Passing one of 'on', 'true', 'off', 'false' as a boolean is deprecated; use an actual boolean (True/False) instead.\n",
            "  warn_deprecated(\"2.2\", \"Passing one of 'on', 'true', 'off', 'false' as a \"\n"
          ],
          "name": "stderr"
        },
        {
          "output_type": "display_data",
          "data": {
            "image/png": "[encoded data removed]",
            "text/plain": [
              "<Figure size 432x288 with 1 Axes>"
            ]
          },
          "metadata": {
            "tags": []
          }
        }
      ]
    },
    {
      "cell_type": "code",
      "metadata": {
        "colab_type": "code",
        "id": "cyG_BMraSuu_",
        "colab": {}
      },
      "source": [
        "NUM_EPOCHS = 10\n",
        "BATCH_SIZE = 20\n",
        "SHUFFLE_BUFFER = 500\n",
        "\n",
        "\n",
        "def preprocess(dataset):\n",
        "\n",
        "  def element_fn(element):\n",
        "    return collections.OrderedDict([\n",
        "        ('x',tf.reshape(element['pixels'], [1,28,28,])),\n",
        "        ('y', tf.reshape(element['label'], [1])),\n",
        "    ])\n",
        "\n",
        "  return dataset.repeat(NUM_EPOCHS).map(element_fn).shuffle(\n",
        "      SHUFFLE_BUFFER).batch(BATCH_SIZE)"
      ],
      "execution_count": 0,
      "outputs": []
    },
    {
      "cell_type": "markdown",
      "metadata": {
        "colab_type": "text",
        "id": "m9LXykN_jlJw"
      },
      "source": [
        "Let's verify this worked."
      ]
    },
    {
      "cell_type": "code",
      "metadata": {
        "colab_type": "code",
        "id": "VChB7LMQjkYz",
        "outputId": "1857b72d-2e6f-4fd4-a5df-5497b26cdebc",
        "colab": {
          "base_uri": "https://localhost:8080/",
          "height": 1000
        }
      },
      "source": [
        "#@test {\"output\": \"ignore\"}\n",
        "preprocessed_example_dataset = preprocess(example_dataset)\n",
        "\n",
        "sample_batch = tf.nest.map_structure(\n",
        "    lambda x: x.numpy(), iter(preprocessed_example_dataset).next())\n",
        "\n",
        "sample_batch"
      ],
      "execution_count": 0,
      "outputs": [
        {
          "output_type": "execute_result",
          "data": {
            "text/plain": [
              "OrderedDict([('x', array([[[[1., 1., 1., ..., 1., 1., 1.],\n",
              "                       [1., 1., 1., ..., 1., 1., 1.],\n",
              "                       [1., 1., 1., ..., 1., 1., 1.],\n",
              "                       ...,\n",
              "                       [1., 1., 1., ..., 1., 1., 1.],\n",
              "                       [1., 1., 1., ..., 1., 1., 1.],\n",
              "                       [1., 1., 1., ..., 1., 1., 1.]]],\n",
              "              \n",
              "              \n",
              "                     [[[1., 1., 1., ..., 1., 1., 1.],\n",
              "                       [1., 1., 1., ..., 1., 1., 1.],\n",
              "                       [1., 1., 1., ..., 1., 1., 1.],\n",
              "                       ...,\n",
              "                       [1., 1., 1., ..., 1., 1., 1.],\n",
              "                       [1., 1., 1., ..., 1., 1., 1.],\n",
              "                       [1., 1., 1., ..., 1., 1., 1.]]],\n",
              "              \n",
              "              \n",
              "                     [[[1., 1., 1., ..., 1., 1., 1.],\n",
              "                       [1., 1., 1., ..., 1., 1., 1.],\n",
              "                       [1., 1., 1., ..., 1., 1., 1.],\n",
              "                       ...,\n",
              "                       [1., 1., 1., ..., 1., 1., 1.],\n",
              "                       [1., 1., 1., ..., 1., 1., 1.],\n",
              "                       [1., 1., 1., ..., 1., 1., 1.]]],\n",
              "              \n",
              "              \n",
              "                     ...,\n",
              "              \n",
              "              \n",
              "                     [[[1., 1., 1., ..., 1., 1., 1.],\n",
              "                       [1., 1., 1., ..., 1., 1., 1.],\n",
              "                       [1., 1., 1., ..., 1., 1., 1.],\n",
              "                       ...,\n",
              "                       [1., 1., 1., ..., 1., 1., 1.],\n",
              "                       [1., 1., 1., ..., 1., 1., 1.],\n",
              "                       [1., 1., 1., ..., 1., 1., 1.]]],\n",
              "              \n",
              "              \n",
              "                     [[[1., 1., 1., ..., 1., 1., 1.],\n",
              "                       [1., 1., 1., ..., 1., 1., 1.],\n",
              "                       [1., 1., 1., ..., 1., 1., 1.],\n",
              "                       ...,\n",
              "                       [1., 1., 1., ..., 1., 1., 1.],\n",
              "                       [1., 1., 1., ..., 1., 1., 1.],\n",
              "                       [1., 1., 1., ..., 1., 1., 1.]]],\n",
              "              \n",
              "              \n",
              "                     [[[1., 1., 1., ..., 1., 1., 1.],\n",
              "                       [1., 1., 1., ..., 1., 1., 1.],\n",
              "                       [1., 1., 1., ..., 1., 1., 1.],\n",
              "                       ...,\n",
              "                       [1., 1., 1., ..., 1., 1., 1.],\n",
              "                       [1., 1., 1., ..., 1., 1., 1.],\n",
              "                       [1., 1., 1., ..., 1., 1., 1.]]]], dtype=float32)),\n",
              "             ('y', array([[4],\n",
              "                     [5],\n",
              "                     [3],\n",
              "                     [6],\n",
              "                     [0],\n",
              "                     [3],\n",
              "                     [1],\n",
              "                     [3],\n",
              "                     [4],\n",
              "                     [3],\n",
              "                     [0],\n",
              "                     [0],\n",
              "                     [4],\n",
              "                     [5],\n",
              "                     [4],\n",
              "                     [9],\n",
              "                     [7],\n",
              "                     [4],\n",
              "                     [6],\n",
              "                     [1]], dtype=int32))])"
            ]
          },
          "metadata": {
            "tags": []
          },
          "execution_count": 57
        }
      ]
    },
    {
      "cell_type": "code",
      "metadata": {
        "colab_type": "code",
        "id": "_PHMvHAI9xVc",
        "colab": {}
      },
      "source": [
        "def make_federated_data(client_data, client_ids):\n",
        "  return [preprocess(client_data.create_tf_dataset_for_client(x))\n",
        "          for x in client_ids]"
      ],
      "execution_count": 0,
      "outputs": []
    },
    {
      "cell_type": "code",
      "metadata": {
        "colab_type": "code",
        "id": "GZ6NYHxB8xer",
        "outputId": "aacacaf0-4674-4639-ff30-210bf02c513d",
        "colab": {
          "base_uri": "https://localhost:8080/",
          "height": 70
        }
      },
      "source": [
        "#@test {\"output\": \"ignore\"}\n",
        "NUM_CLIENTS = 10\n",
        "\n",
        "sample_clients = emnist_train.client_ids[0:NUM_CLIENTS]\n",
        "#print(sample_clients)\n",
        "\n",
        "federated_train_data = make_federated_data(emnist_train, sample_clients)\n",
        "\n",
        "sample_clients = emnist_test.client_ids[0:NUM_CLIENTS]\n",
        "#print(sample_clients)\n",
        "federated_test_data = make_federated_data(emnist_test, sample_clients)\n",
        "\n",
        "len(federated_train_data), federated_train_data[0]"
      ],
      "execution_count": 0,
      "outputs": [
        {
          "output_type": "execute_result",
          "data": {
            "text/plain": [
              "(10,\n",
              " <DatasetV1Adapter shapes: OrderedDict([(x, (None, 1, 28, 28)), (y, (None, 1))]), types: OrderedDict([(x, tf.float32), (y, tf.int32)])>)"
            ]
          },
          "metadata": {
            "tags": []
          },
          "execution_count": 59
        }
      ]
    },
    {
      "cell_type": "code",
      "metadata": {
        "id": "bcvat2dPEo6E",
        "colab_type": "code",
        "outputId": "4898f00d-7115-4572-998a-ea6ece9dc571",
        "colab": {
          "base_uri": "https://localhost:8080/",
          "height": 370
        }
      },
      "source": [
        "print(iter(federated_test_data[1]).next()['y'])"
      ],
      "execution_count": 0,
      "outputs": [
        {
          "output_type": "stream",
          "text": [
            "tf.Tensor(\n",
            "[[1]\n",
            " [1]\n",
            " [6]\n",
            " [2]\n",
            " [2]\n",
            " [3]\n",
            " [4]\n",
            " [2]\n",
            " [2]\n",
            " [7]\n",
            " [6]\n",
            " [7]\n",
            " [6]\n",
            " [6]\n",
            " [7]\n",
            " [1]\n",
            " [9]\n",
            " [1]\n",
            " [6]\n",
            " [1]], shape=(20, 1), dtype=int32)\n"
          ],
          "name": "stdout"
        }
      ]
    },
    {
      "cell_type": "code",
      "metadata": {
        "id": "qWvmXPlYc558",
        "colab_type": "code",
        "colab": {}
      },
      "source": [
        "def create_compiled_keras_model():\n",
        "  model = tf.keras.models.Sequential([\n",
        "      tf.keras.layers.Conv2D(input_shape=(1,28,28), filters=32, kernel_size=2, padding='same', activation='relu', kernel_initializer='he_uniform'),\n",
        "      tf.keras.layers.Flatten(),\n",
        "      #tf.keras.layers.Dense(\n",
        "          #100, activation='relu',),\n",
        "      #tf.keras.layers.Dense(\n",
        "          #100, activation='relu',),\n",
        "      tf.keras.layers.Dense(\n",
        "          10, activation=tf.nn.softmax, kernel_initializer='zeros')])\n",
        "  #dpopt = DPAdamOptimizer\n",
        "  dpopt = dp_optimizer.DPGradientDescentGaussianOptimizer(\n",
        "            l2_norm_clip=1.0,\n",
        "            noise_multiplier=1.1,\n",
        "            num_microbatches=256,\n",
        "            learning_rate=.15,)\n",
        "  #opt = tf.keras.optimizers.Adam\n",
        "  #opt.compute_gradients = opt.get_gradients\n",
        "  #opt = make_optimizer_class(opt)\n",
        "  model.compile(\n",
        "      loss=tf.keras.losses.SparseCategoricalCrossentropy(),\n",
        "      optimizer = tf.keras.optimizers.Adam(learning_rate=0.01),\n",
        "      metrics=[tf.keras.metrics.SparseCategoricalAccuracy()])\n",
        "  \n",
        "  #model.optimizer = model.optimizer.optimizer\n",
        " \n",
        "  return model\n",
        "\n",
        "def create_keras_model():\n",
        "  model = tf.keras.models.Sequential([\n",
        "      tf.keras.layers.Conv2D(input_shape=(1,28,28), filters=32, kernel_size=2, padding='same', activation='relu'),\n",
        "      tf.keras.layers.Flatten(),\n",
        "      #tf.keras.layers.Dense(\n",
        "          #100, activation='relu',),\n",
        "      #tf.keras.layers.Dense(\n",
        "          #100, activation='relu',),\n",
        "      tf.keras.layers.Dense(\n",
        "          10, activation=tf.nn.softmax, kernel_initializer='zeros')])\n",
        "  return model\n",
        "  \n",
        "  '''  model.compile(\n",
        "        loss=tf.keras.losses.SparseCategoricalCrossentropy(),\n",
        "        optimizer = 'adam',\n",
        "        metrics=[tf.keras.metrics.SparseCategoricalAccuracy()])'''\n",
        "  "
      ],
      "execution_count": 0,
      "outputs": []
    },
    {
      "cell_type": "code",
      "metadata": {
        "colab_type": "code",
        "id": "Q3ynrxd53HzY",
        "colab": {}
      },
      "source": [
        "#keras_model = create_compiled_keras_model()\n",
        "def model_fn():\n",
        "  keras_model = create_compiled_keras_model()\n",
        "  return tff.learning.from_compiled_keras_model(keras_model, sample_batch)"
      ],
      "execution_count": 0,
      "outputs": []
    },
    {
      "cell_type": "code",
      "metadata": {
        "id": "GjDfY4XcEPMf",
        "colab_type": "code",
        "outputId": "4650b180-d501-4217-8c9d-0d30f226137c",
        "colab": {
          "base_uri": "https://localhost:8080/",
          "height": 34
        }
      },
      "source": [
        "m = create_compiled_keras_model()\n",
        "#m.optimizer.variables = m.optimizer.optimizer.variables\n",
        "#m.optimizer.optimizer.variables\n",
        "'''dpopt = dp_optimizer.DPGradientDescentGaussianOptimizer(\n",
        "          l2_norm_clip=1.0,\n",
        "          noise_multiplier=1.1,\n",
        "          num_microbatches=256,\n",
        "          learning_rate=.15,).variables'''\n",
        "\n",
        "#m.optimizer = m.optimizer.optimizer\n",
        "model_fn()"
      ],
      "execution_count": 0,
      "outputs": [
        {
          "output_type": "execute_result",
          "data": {
            "text/plain": [
              "<tensorflow_federated.python.learning.model_utils.EnhancedTrainableModel at 0x7f5169805c50>"
            ]
          },
          "metadata": {
            "tags": []
          },
          "execution_count": 63
        }
      ]
    },
    {
      "cell_type": "code",
      "metadata": {
        "colab_type": "code",
        "id": "sk6mjOfycX5N",
        "colab": {}
      },
      "source": [
        "#@test {\"output\": \"ignore\"}\n",
        "iterative_process = tff.learning.build_federated_averaging_process(model_fn)"
      ],
      "execution_count": 0,
      "outputs": []
    },
    {
      "cell_type": "code",
      "metadata": {
        "colab_type": "code",
        "id": "Z4pcfWsUBp_5",
        "outputId": "0f52e66b-2e5a-46be-eb0c-06ae12f9bc52",
        "colab": {
          "base_uri": "https://localhost:8080/",
          "height": 54
        }
      },
      "source": [
        "#@test {\"output\": \"ignore\"}\n",
        "str(iterative_process.initialize.type_signature)"
      ],
      "execution_count": 0,
      "outputs": [
        {
          "output_type": "execute_result",
          "data": {
            "text/plain": [
              "'( -> <model=<trainable=<conv2d/kernel=float32[2,2,28,32],conv2d/bias=float32[32],dense/kernel=float32[896,10],dense/bias=float32[10]>,non_trainable=<>>,optimizer_state=<int64>,delta_aggregate_state=<>,model_broadcast_state=<>>@SERVER)'"
            ]
          },
          "metadata": {
            "tags": []
          },
          "execution_count": 65
        }
      ]
    },
    {
      "cell_type": "code",
      "metadata": {
        "colab_type": "code",
        "id": "6cagCWlZmcch",
        "colab": {}
      },
      "source": [
        "state = iterative_process.initialize()"
      ],
      "execution_count": 0,
      "outputs": []
    },
    {
      "cell_type": "code",
      "metadata": {
        "colab_type": "code",
        "id": "F3M_W9dDE6Tm",
        "outputId": "26b7d149-f38d-45a1-8377-19f584a0d18d",
        "colab": {
          "base_uri": "https://localhost:8080/",
          "height": 34
        }
      },
      "source": [
        "#@test {\"timeout\": 600, \"output\": \"ignore\"}\n",
        "state, metrics = iterative_process.next(state, federated_train_data)\n",
        "print('round  1, metrics={}'.format(metrics))"
      ],
      "execution_count": 0,
      "outputs": [
        {
          "output_type": "stream",
          "text": [
            "round  1, metrics=<sparse_categorical_accuracy=0.32314816,loss=2.0635908>\n"
          ],
          "name": "stdout"
        }
      ]
    },
    {
      "cell_type": "code",
      "metadata": {
        "colab_type": "code",
        "id": "qrJkQuCRJP9C",
        "outputId": "6801642d-b1ca-43c3-93bc-860195119731",
        "colab": {
          "base_uri": "https://localhost:8080/",
          "height": 168
        }
      },
      "source": [
        "#@test {\"skip\": true}\n",
        "for round_num in range(2, 11):\n",
        "  state, metrics = iterative_process.next(state, federated_train_data)\n",
        "  print('round {:2d}, metrics={}'.format(round_num, metrics))"
      ],
      "execution_count": 0,
      "outputs": [
        {
          "output_type": "stream",
          "text": [
            "round  2, metrics=<sparse_categorical_accuracy=0.5004115,loss=1.7964611>\n",
            "round  3, metrics=<sparse_categorical_accuracy=0.713786,loss=1.1462393>\n",
            "round  4, metrics=<sparse_categorical_accuracy=0.7941358,loss=0.78814197>\n",
            "round  5, metrics=<sparse_categorical_accuracy=0.84537035,loss=0.5939867>\n",
            "round  6, metrics=<sparse_categorical_accuracy=0.88868314,loss=0.43604073>\n",
            "round  7, metrics=<sparse_categorical_accuracy=0.9099794,loss=0.3268376>\n",
            "round  8, metrics=<sparse_categorical_accuracy=0.92314816,loss=0.28121787>\n",
            "round  9, metrics=<sparse_categorical_accuracy=0.9272634,loss=0.25278515>\n",
            "round 10, metrics=<sparse_categorical_accuracy=0.9314815,loss=0.23612824>\n"
          ],
          "name": "stdout"
        }
      ]
    },
    {
      "cell_type": "code",
      "metadata": {
        "id": "E6EcEo0lNHcV",
        "colab_type": "code",
        "colab": {}
      },
      "source": [
        "nmodel = create_compiled_keras_model()\n",
        "tff.learning.assign_weights_to_keras_model(nmodel, state.model)\n"
      ],
      "execution_count": 0,
      "outputs": []
    },
    {
      "cell_type": "code",
      "metadata": {
        "id": "Okk_FoGosMmg",
        "colab_type": "code",
        "outputId": "e9bece5e-82a5-41ad-9a4c-148c2ade0a54",
        "colab": {
          "base_uri": "https://localhost:8080/",
          "height": 1000
        }
      },
      "source": [
        "basemodel = create_compiled_keras_model()\n",
        "for i in range(10):\n",
        "  basemodel.fit(iter(federated_train_data[i]).next()['x'].numpy(),iter(federated_train_data[i]).next()['y'].numpy(),shuffle=True,epochs=10)"
      ],
      "execution_count": 0,
      "outputs": [
        {
          "output_type": "stream",
          "text": [
            "Train on 20 samples\n",
            "Epoch 1/10\n",
            "20/20 [==============================] - 0s 3ms/sample - loss: 2.3026 - sparse_categorical_accuracy: 0.1500\n",
            "Epoch 2/10\n",
            "20/20 [==============================] - 0s 292us/sample - loss: 2.3193 - sparse_categorical_accuracy: 0.4000\n",
            "Epoch 3/10\n",
            "20/20 [==============================] - 0s 197us/sample - loss: 1.9799 - sparse_categorical_accuracy: 0.2500\n",
            "Epoch 4/10\n",
            "20/20 [==============================] - 0s 253us/sample - loss: 2.0365 - sparse_categorical_accuracy: 0.1000\n",
            "Epoch 5/10\n",
            "20/20 [==============================] - 0s 136us/sample - loss: 1.8519 - sparse_categorical_accuracy: 0.4000\n",
            "Epoch 6/10\n",
            "20/20 [==============================] - 0s 204us/sample - loss: 1.8259 - sparse_categorical_accuracy: 0.2500\n",
            "Epoch 7/10\n",
            "20/20 [==============================] - 0s 173us/sample - loss: 1.7809 - sparse_categorical_accuracy: 0.2500\n",
            "Epoch 8/10\n",
            "20/20 [==============================] - 0s 115us/sample - loss: 1.7339 - sparse_categorical_accuracy: 0.2500\n",
            "Epoch 9/10\n",
            "20/20 [==============================] - 0s 174us/sample - loss: 1.6496 - sparse_categorical_accuracy: 0.2500\n",
            "Epoch 10/10\n",
            "20/20 [==============================] - 0s 171us/sample - loss: 1.5882 - sparse_categorical_accuracy: 0.4500\n",
            "Train on 20 samples\n",
            "Epoch 1/10\n",
            "20/20 [==============================] - 0s 155us/sample - loss: 3.8027 - sparse_categorical_accuracy: 0.1500\n",
            "Epoch 2/10\n",
            "20/20 [==============================] - 0s 287us/sample - loss: 2.6288 - sparse_categorical_accuracy: 0.3000\n",
            "Epoch 3/10\n",
            "20/20 [==============================] - 0s 142us/sample - loss: 2.3196 - sparse_categorical_accuracy: 0.2000\n",
            "Epoch 4/10\n",
            "20/20 [==============================] - 0s 244us/sample - loss: 2.2894 - sparse_categorical_accuracy: 0.2500\n",
            "Epoch 5/10\n",
            "20/20 [==============================] - 0s 135us/sample - loss: 2.2919 - sparse_categorical_accuracy: 0.2000\n",
            "Epoch 6/10\n",
            "20/20 [==============================] - 0s 173us/sample - loss: 2.2891 - sparse_categorical_accuracy: 0.2500\n",
            "Epoch 7/10\n",
            "20/20 [==============================] - 0s 214us/sample - loss: 2.2829 - sparse_categorical_accuracy: 0.1500\n",
            "Epoch 8/10\n",
            "20/20 [==============================] - 0s 197us/sample - loss: 2.2722 - sparse_categorical_accuracy: 0.1500\n",
            "Epoch 9/10\n",
            "20/20 [==============================] - 0s 192us/sample - loss: 2.2545 - sparse_categorical_accuracy: 0.1500\n",
            "Epoch 10/10\n",
            "20/20 [==============================] - 0s 201us/sample - loss: 2.2224 - sparse_categorical_accuracy: 0.1500\n",
            "Train on 20 samples\n",
            "Epoch 1/10\n",
            "20/20 [==============================] - 0s 174us/sample - loss: 2.2835 - sparse_categorical_accuracy: 0.1000\n",
            "Epoch 2/10\n",
            "20/20 [==============================] - 0s 404us/sample - loss: 2.2998 - sparse_categorical_accuracy: 0.1000\n",
            "Epoch 3/10\n",
            "20/20 [==============================] - 0s 171us/sample - loss: 2.2443 - sparse_categorical_accuracy: 0.1000\n",
            "Epoch 4/10\n",
            "20/20 [==============================] - 0s 312us/sample - loss: 2.1921 - sparse_categorical_accuracy: 0.1000\n",
            "Epoch 5/10\n",
            "20/20 [==============================] - 0s 239us/sample - loss: 2.0818 - sparse_categorical_accuracy: 0.4000\n",
            "Epoch 6/10\n",
            "20/20 [==============================] - 0s 272us/sample - loss: 1.9656 - sparse_categorical_accuracy: 0.2000\n",
            "Epoch 7/10\n",
            "20/20 [==============================] - 0s 244us/sample - loss: 1.9568 - sparse_categorical_accuracy: 0.2500\n",
            "Epoch 8/10\n",
            "20/20 [==============================] - 0s 159us/sample - loss: 1.8483 - sparse_categorical_accuracy: 0.4500\n",
            "Epoch 9/10\n",
            "20/20 [==============================] - 0s 267us/sample - loss: 1.7655 - sparse_categorical_accuracy: 0.4500\n",
            "Epoch 10/10\n",
            "20/20 [==============================] - 0s 150us/sample - loss: 1.7195 - sparse_categorical_accuracy: 0.4000\n",
            "Train on 20 samples\n",
            "Epoch 1/10\n",
            "20/20 [==============================] - 0s 162us/sample - loss: 2.1747 - sparse_categorical_accuracy: 0.2500\n",
            "Epoch 2/10\n",
            "20/20 [==============================] - 0s 305us/sample - loss: 1.9517 - sparse_categorical_accuracy: 0.5500\n",
            "Epoch 3/10\n",
            "20/20 [==============================] - 0s 257us/sample - loss: 1.8071 - sparse_categorical_accuracy: 0.4000\n",
            "Epoch 4/10\n",
            "20/20 [==============================] - 0s 325us/sample - loss: 1.7930 - sparse_categorical_accuracy: 0.3000\n",
            "Epoch 5/10\n",
            "20/20 [==============================] - 0s 150us/sample - loss: 1.6720 - sparse_categorical_accuracy: 0.4500\n",
            "Epoch 6/10\n",
            "20/20 [==============================] - 0s 273us/sample - loss: 1.6151 - sparse_categorical_accuracy: 0.5000\n",
            "Epoch 7/10\n",
            "20/20 [==============================] - 0s 153us/sample - loss: 1.5836 - sparse_categorical_accuracy: 0.5000\n",
            "Epoch 8/10\n",
            "20/20 [==============================] - 0s 222us/sample - loss: 1.5064 - sparse_categorical_accuracy: 0.5000\n",
            "Epoch 9/10\n",
            "20/20 [==============================] - 0s 156us/sample - loss: 1.4445 - sparse_categorical_accuracy: 0.5000\n",
            "Epoch 10/10\n",
            "20/20 [==============================] - 0s 144us/sample - loss: 1.4183 - sparse_categorical_accuracy: 0.5000\n",
            "Train on 20 samples\n",
            "Epoch 1/10\n",
            "20/20 [==============================] - 0s 155us/sample - loss: 2.5198 - sparse_categorical_accuracy: 0.3500\n",
            "Epoch 2/10\n",
            "20/20 [==============================] - 0s 199us/sample - loss: 2.1506 - sparse_categorical_accuracy: 0.4000\n",
            "Epoch 3/10\n",
            "20/20 [==============================] - 0s 127us/sample - loss: 2.0122 - sparse_categorical_accuracy: 0.4000\n",
            "Epoch 4/10\n",
            "20/20 [==============================] - 0s 215us/sample - loss: 1.9936 - sparse_categorical_accuracy: 0.4000\n",
            "Epoch 5/10\n",
            "20/20 [==============================] - 0s 160us/sample - loss: 1.9042 - sparse_categorical_accuracy: 0.5000\n",
            "Epoch 6/10\n",
            "20/20 [==============================] - 0s 285us/sample - loss: 1.7639 - sparse_categorical_accuracy: 0.6000\n",
            "Epoch 7/10\n",
            "20/20 [==============================] - 0s 170us/sample - loss: 1.6509 - sparse_categorical_accuracy: 0.5500\n",
            "Epoch 8/10\n",
            "20/20 [==============================] - 0s 139us/sample - loss: 1.6876 - sparse_categorical_accuracy: 0.4500\n",
            "Epoch 9/10\n",
            "20/20 [==============================] - 0s 142us/sample - loss: 1.7086 - sparse_categorical_accuracy: 0.5000\n",
            "Epoch 10/10\n",
            "20/20 [==============================] - 0s 196us/sample - loss: 1.5903 - sparse_categorical_accuracy: 0.6000\n",
            "Train on 20 samples\n",
            "Epoch 1/10\n",
            "20/20 [==============================] - 0s 172us/sample - loss: 2.1489 - sparse_categorical_accuracy: 0.1500\n",
            "Epoch 2/10\n",
            "20/20 [==============================] - 0s 297us/sample - loss: 1.8849 - sparse_categorical_accuracy: 0.2500\n",
            "Epoch 3/10\n",
            "20/20 [==============================] - 0s 358us/sample - loss: 1.8868 - sparse_categorical_accuracy: 0.4500\n",
            "Epoch 4/10\n",
            "20/20 [==============================] - 0s 232us/sample - loss: 1.8822 - sparse_categorical_accuracy: 0.4500\n",
            "Epoch 5/10\n",
            "20/20 [==============================] - 0s 191us/sample - loss: 1.8418 - sparse_categorical_accuracy: 0.4500\n",
            "Epoch 6/10\n",
            "20/20 [==============================] - 0s 196us/sample - loss: 1.7833 - sparse_categorical_accuracy: 0.4500\n",
            "Epoch 7/10\n",
            "20/20 [==============================] - 0s 141us/sample - loss: 1.7165 - sparse_categorical_accuracy: 0.4500\n",
            "Epoch 8/10\n",
            "20/20 [==============================] - 0s 159us/sample - loss: 1.6583 - sparse_categorical_accuracy: 0.4500\n",
            "Epoch 9/10\n",
            "20/20 [==============================] - 0s 204us/sample - loss: 1.6173 - sparse_categorical_accuracy: 0.5000\n",
            "Epoch 10/10\n",
            "20/20 [==============================] - 0s 174us/sample - loss: 1.5939 - sparse_categorical_accuracy: 0.5000\n",
            "Train on 20 samples\n",
            "Epoch 1/10\n",
            "20/20 [==============================] - 0s 178us/sample - loss: 2.0001 - sparse_categorical_accuracy: 0.2000\n",
            "Epoch 2/10\n",
            "20/20 [==============================] - 0s 153us/sample - loss: 1.9839 - sparse_categorical_accuracy: 0.2000\n",
            "Epoch 3/10\n",
            "20/20 [==============================] - 0s 173us/sample - loss: 1.9624 - sparse_categorical_accuracy: 0.2500\n",
            "Epoch 4/10\n",
            "20/20 [==============================] - 0s 260us/sample - loss: 1.9360 - sparse_categorical_accuracy: 0.2500\n",
            "Epoch 5/10\n",
            "20/20 [==============================] - 0s 188us/sample - loss: 1.8860 - sparse_categorical_accuracy: 0.3000\n",
            "Epoch 6/10\n",
            "20/20 [==============================] - 0s 183us/sample - loss: 1.7572 - sparse_categorical_accuracy: 0.4500\n",
            "Epoch 7/10\n",
            "20/20 [==============================] - 0s 220us/sample - loss: 1.5653 - sparse_categorical_accuracy: 0.6500\n",
            "Epoch 8/10\n",
            "20/20 [==============================] - 0s 167us/sample - loss: 1.5461 - sparse_categorical_accuracy: 0.5000\n",
            "Epoch 9/10\n",
            "20/20 [==============================] - 0s 158us/sample - loss: 1.4001 - sparse_categorical_accuracy: 0.6500\n",
            "Epoch 10/10\n",
            "20/20 [==============================] - 0s 226us/sample - loss: 1.3219 - sparse_categorical_accuracy: 0.6500\n",
            "Train on 20 samples\n",
            "Epoch 1/10\n",
            "20/20 [==============================] - 0s 176us/sample - loss: 1.9913 - sparse_categorical_accuracy: 0.5000\n",
            "Epoch 2/10\n",
            "20/20 [==============================] - 0s 275us/sample - loss: 1.8089 - sparse_categorical_accuracy: 0.5000\n",
            "Epoch 3/10\n",
            "20/20 [==============================] - 0s 186us/sample - loss: 1.6179 - sparse_categorical_accuracy: 0.5000\n",
            "Epoch 4/10\n",
            "20/20 [==============================] - 0s 186us/sample - loss: 1.5072 - sparse_categorical_accuracy: 0.6000\n",
            "Epoch 5/10\n",
            "20/20 [==============================] - 0s 145us/sample - loss: 1.4005 - sparse_categorical_accuracy: 0.6500\n",
            "Epoch 6/10\n",
            "20/20 [==============================] - 0s 309us/sample - loss: 1.3445 - sparse_categorical_accuracy: 0.6500\n",
            "Epoch 7/10\n",
            "20/20 [==============================] - 0s 214us/sample - loss: 1.2698 - sparse_categorical_accuracy: 0.6000\n",
            "Epoch 8/10\n",
            "20/20 [==============================] - 0s 224us/sample - loss: 1.2269 - sparse_categorical_accuracy: 0.6500\n",
            "Epoch 9/10\n",
            "20/20 [==============================] - 0s 205us/sample - loss: 1.1562 - sparse_categorical_accuracy: 0.6500\n",
            "Epoch 10/10\n",
            "20/20 [==============================] - 0s 217us/sample - loss: 1.0995 - sparse_categorical_accuracy: 0.7500\n",
            "Train on 20 samples\n",
            "Epoch 1/10\n",
            "20/20 [==============================] - 0s 168us/sample - loss: 2.4834 - sparse_categorical_accuracy: 0.2500\n",
            "Epoch 2/10\n",
            "20/20 [==============================] - 0s 246us/sample - loss: 1.9789 - sparse_categorical_accuracy: 0.4500\n",
            "Epoch 3/10\n",
            "20/20 [==============================] - 0s 329us/sample - loss: 1.9436 - sparse_categorical_accuracy: 0.3000\n",
            "Epoch 4/10\n",
            "20/20 [==============================] - 0s 236us/sample - loss: 1.9045 - sparse_categorical_accuracy: 0.3000\n",
            "Epoch 5/10\n",
            "20/20 [==============================] - 0s 159us/sample - loss: 1.8298 - sparse_categorical_accuracy: 0.3000\n",
            "Epoch 6/10\n",
            "20/20 [==============================] - 0s 165us/sample - loss: 1.7661 - sparse_categorical_accuracy: 0.3500\n",
            "Epoch 7/10\n",
            "20/20 [==============================] - 0s 175us/sample - loss: 1.7210 - sparse_categorical_accuracy: 0.3500\n",
            "Epoch 8/10\n",
            "20/20 [==============================] - 0s 164us/sample - loss: 1.6901 - sparse_categorical_accuracy: 0.3500\n",
            "Epoch 9/10\n",
            "20/20 [==============================] - 0s 164us/sample - loss: 1.6532 - sparse_categorical_accuracy: 0.4000\n",
            "Epoch 10/10\n",
            "20/20 [==============================] - 0s 157us/sample - loss: 1.5999 - sparse_categorical_accuracy: 0.4500\n",
            "Train on 20 samples\n",
            "Epoch 1/10\n",
            "20/20 [==============================] - 0s 181us/sample - loss: 2.0059 - sparse_categorical_accuracy: 0.4500\n",
            "Epoch 2/10\n",
            "20/20 [==============================] - 0s 213us/sample - loss: 1.9544 - sparse_categorical_accuracy: 0.4500\n",
            "Epoch 3/10\n",
            "20/20 [==============================] - 0s 410us/sample - loss: 1.8762 - sparse_categorical_accuracy: 0.4500\n",
            "Epoch 4/10\n",
            "20/20 [==============================] - 0s 320us/sample - loss: 1.8084 - sparse_categorical_accuracy: 0.5500\n",
            "Epoch 5/10\n",
            "20/20 [==============================] - 0s 324us/sample - loss: 1.7634 - sparse_categorical_accuracy: 0.6500\n",
            "Epoch 6/10\n",
            "20/20 [==============================] - 0s 319us/sample - loss: 1.7259 - sparse_categorical_accuracy: 0.6000\n",
            "Epoch 7/10\n",
            "20/20 [==============================] - 0s 334us/sample - loss: 1.6900 - sparse_categorical_accuracy: 0.6000\n",
            "Epoch 8/10\n",
            "20/20 [==============================] - 0s 259us/sample - loss: 1.6528 - sparse_categorical_accuracy: 0.6500\n",
            "Epoch 9/10\n",
            "20/20 [==============================] - 0s 403us/sample - loss: 1.6104 - sparse_categorical_accuracy: 0.6500\n",
            "Epoch 10/10\n",
            "20/20 [==============================] - 0s 470us/sample - loss: 1.5599 - sparse_categorical_accuracy: 0.6500\n"
          ],
          "name": "stdout"
        }
      ]
    },
    {
      "cell_type": "code",
      "metadata": {
        "id": "gFR9A0xEPqf6",
        "colab_type": "code",
        "outputId": "669be9be-e292-4a82-938f-bf9b356e1778",
        "colab": {
          "base_uri": "https://localhost:8080/",
          "height": 353
        }
      },
      "source": [
        "met = []\n",
        "met2 = []\n",
        "for i in range(10):\n",
        "  met.append(nmodel.evaluate(iter(federated_test_data[i]).next()['x'].numpy(),iter(federated_test_data[i]).next()['y'].numpy()))\n",
        "for i in range(10):\n",
        "  met2.append(basemodel.evaluate(iter(federated_test_data[i]).next()['x'].numpy(),iter(federated_test_data[i]).next()['y'].numpy())) "
      ],
      "execution_count": 0,
      "outputs": [
        {
          "output_type": "stream",
          "text": [
            "20/20 [==============================] - 0s 119us/sample - loss: 0.6731 - sparse_categorical_accuracy: 0.6500\n",
            "20/20 [==============================] - 0s 77us/sample - loss: 0.0892 - sparse_categorical_accuracy: 1.0000\n",
            "20/20 [==============================] - 0s 70us/sample - loss: 0.7838 - sparse_categorical_accuracy: 0.7500\n",
            "20/20 [==============================] - 0s 85us/sample - loss: 0.5645 - sparse_categorical_accuracy: 0.8000\n",
            "20/20 [==============================] - 0s 75us/sample - loss: 0.1876 - sparse_categorical_accuracy: 0.9500\n",
            "20/20 [==============================] - 0s 84us/sample - loss: 0.7633 - sparse_categorical_accuracy: 0.8500\n",
            "20/20 [==============================] - 0s 69us/sample - loss: 0.3895 - sparse_categorical_accuracy: 0.8500\n",
            "20/20 [==============================] - 0s 65us/sample - loss: 1.6600 - sparse_categorical_accuracy: 0.6000\n",
            "20/20 [==============================] - 0s 76us/sample - loss: 0.3593 - sparse_categorical_accuracy: 0.9000\n",
            "20/20 [==============================] - 0s 76us/sample - loss: 1.4403 - sparse_categorical_accuracy: 0.7000\n",
            "20/20 [==============================] - 0s 1ms/sample - loss: 1.6872 - sparse_categorical_accuracy: 0.4000\n",
            "20/20 [==============================] - 0s 78us/sample - loss: 1.7252 - sparse_categorical_accuracy: 0.7000\n",
            "20/20 [==============================] - 0s 67us/sample - loss: 1.6096 - sparse_categorical_accuracy: 0.5000\n",
            "20/20 [==============================] - 0s 73us/sample - loss: 1.7422 - sparse_categorical_accuracy: 0.5000\n",
            "20/20 [==============================] - 0s 79us/sample - loss: 1.8646 - sparse_categorical_accuracy: 0.4000\n",
            "20/20 [==============================] - 0s 69us/sample - loss: 1.7361 - sparse_categorical_accuracy: 0.5000\n",
            "20/20 [==============================] - 0s 77us/sample - loss: 1.3308 - sparse_categorical_accuracy: 0.5500\n",
            "20/20 [==============================] - 0s 78us/sample - loss: 1.6361 - sparse_categorical_accuracy: 0.4500\n",
            "20/20 [==============================] - 0s 78us/sample - loss: 1.5411 - sparse_categorical_accuracy: 0.5500\n",
            "20/20 [==============================] - 0s 79us/sample - loss: 1.4971 - sparse_categorical_accuracy: 0.4000\n"
          ],
          "name": "stdout"
        }
      ]
    },
    {
      "cell_type": "code",
      "metadata": {
        "id": "4kD2UXRiQWBb",
        "colab_type": "code",
        "outputId": "ef310d0d-5d83-4979-9414-05025b190b3c",
        "colab": {
          "base_uri": "https://localhost:8080/",
          "height": 50
        }
      },
      "source": [
        "met = np.array(met)\n",
        "print(np.mean(met[:,1]))\n",
        "met2 = np.array(met2)\n",
        "print(np.mean(met2[:,1]))"
      ],
      "execution_count": 0,
      "outputs": [
        {
          "output_type": "stream",
          "text": [
            "0.8050000011920929\n",
            "0.49500000178813935\n"
          ],
          "name": "stdout"
        }
      ]
    },
    {
      "cell_type": "code",
      "metadata": {
        "id": "hClxxY8cpUg8",
        "colab_type": "code",
        "colab": {}
      },
      "source": [
        "nmodel.save('mymodel.h5')"
      ],
      "execution_count": 0,
      "outputs": []
    },
    {
      "cell_type": "code",
      "metadata": {
        "id": "YU1KiOXnmiii",
        "colab_type": "code",
        "colab": {}
      },
      "source": [
        "import tensorflow as tf\n",
        "converter = tf.lite.TFLiteConverter.from_keras_model_file('mymodel.h5')\n",
        "converter.optimizations = [tf.lite.Optimize.OPTIMIZE_FOR_SIZE]\n",
        "tflite_quant_model = converter.convert()\n"
      ],
      "execution_count": 0,
      "outputs": []
    },
    {
      "cell_type": "code",
      "metadata": {
        "id": "Meu-MjXKrAJI",
        "colab_type": "code",
        "colab": {}
      },
      "source": [
        "open(\"model.tflite\", \"wb\").write(tflite_quant_model)\n",
        "from google.colab import files\n",
        "\n",
        "files.download('model.tflite')"
      ],
      "execution_count": 0,
      "outputs": []
    },
    {
      "cell_type": "code",
      "metadata": {
        "id": "YIpbBgwPDfXT",
        "colab_type": "code",
        "colab": {}
      },
      "source": [
        "\n",
        "interpreter = tf.lite.Interpreter(model_path='model.tflite')\n",
        "interpreter.allocate_tensors()\n",
        "# Get input and output tensors.\n",
        "input_details = interpreter.get_input_details()\n",
        "output_details = interpreter.get_output_details()\n",
        "\n",
        "\n",
        "tf.logging.set_verbosity(tf.logging.DEBUG)\n"
      ],
      "execution_count": 0,
      "outputs": []
    },
    {
      "cell_type": "code",
      "metadata": {
        "id": "qTrgulOiFcDb",
        "colab_type": "code",
        "outputId": "37519365-197f-4e97-ee1b-01d892767988",
        "colab": {
          "base_uri": "https://localhost:8080/",
          "height": 84
        }
      },
      "source": [
        "i = 4\n",
        "input_shape = input_details[0]['shape']\n",
        "#input_data = np.array(np.random.random_sample(input_shape), dtype=np.float32)\n",
        "input_data = np.array([iter(federated_test_data[1]).next()['x'][i].numpy()], dtype=np.float32)\n",
        "interpreter.set_tensor(input_details[0]['index'], input_data)\n",
        "\n",
        "interpreter.invoke()\n",
        "\n",
        "# The function `get_tensor()` returns a copy of the tensor data.\n",
        "# Use `tensor()` in order to get a pointer to the tensor.\n",
        "output_data = interpreter.get_tensor(output_details[0]['index'])[0]\n",
        "print(output_data)\n",
        "result = np.where(output_data == np.amax(output_data))\n",
        "print(result[0][0])\n",
        "print(iter(federated_test_data[1]).next()['y'][i].numpy()[0])"
      ],
      "execution_count": 0,
      "outputs": [
        {
          "output_type": "stream",
          "text": [
            "[2.9535621e-02 5.8720782e-03 9.5464349e-01 6.5183340e-05 6.2618951e-06\n",
            " 9.0620393e-05 4.5748260e-03 6.0315931e-04 4.6050004e-03 3.7405500e-06]\n",
            "2\n",
            "2\n"
          ],
          "name": "stdout"
        }
      ]
    },
    {
      "cell_type": "code",
      "metadata": {
        "id": "QbqeavRMIE62",
        "colab_type": "code",
        "outputId": "990c0c23-6866-4ce0-9b37-553d06dfc4af",
        "colab": {
          "base_uri": "https://localhost:8080/",
          "height": 1000
        }
      },
      "source": [
        "correct = 0\n",
        "total = 0\n",
        "for i in range(10):\n",
        "  for j in range(20):\n",
        "    total+=1\n",
        "    input_shape = input_details[0]['shape']\n",
        "    #input_data = np.array(np.random.random_sample(input_shape), dtype=np.float32)\n",
        "    input_data = np.array([iter(federated_test_data[i]).next()['x'][j].numpy()], dtype=np.float32)\n",
        "    interpreter.set_tensor(input_details[0]['index'], input_data)\n",
        "\n",
        "    interpreter.invoke()\n",
        "\n",
        "    # The function `get_tensor()` returns a copy of the tensor data.\n",
        "    # Use `tensor()` in order to get a pointer to the tensor.\n",
        "    output_data = interpreter.get_tensor(output_details[0]['index'])[0]\n",
        "    #print(output_data)\n",
        "    result = np.where(output_data == np.amax(output_data))\n",
        "    #print(result[0][0])\n",
        "    #print(iter(federated_test_data[1]).next()['y'][i].numpy()[0])\n",
        "    if(result[0][0] == iter(federated_test_data[i]).next()['y'][j].numpy()[0]):\n",
        "      #print('yay')\n",
        "      correct+=1\n",
        "    else:\n",
        "      print(result[0][0],' ',iter(federated_test_data[i]).next()['y'][j].numpy()[0])\n",
        "      plt.imshow(iter(federated_test_data[i]).next()['x'][j].numpy()[0], cmap='gray', aspect='equal')\n",
        "      plt.grid('off')\n",
        "      _ = plt.show()\n",
        "      \n",
        "\n",
        "print(total, correct, correct/total)    "
      ],
      "execution_count": 0,
      "outputs": [
        {
          "output_type": "stream",
          "text": [
            "7   9\n"
          ],
          "name": "stdout"
        },
        {
          "output_type": "stream",
          "text": [
            "/usr/local/lib/python3.6/dist-packages/matplotlib/cbook/__init__.py:424: MatplotlibDeprecationWarning: \n",
            "Passing one of 'on', 'true', 'off', 'false' as a boolean is deprecated; use an actual boolean (True/False) instead.\n",
            "  warn_deprecated(\"2.2\", \"Passing one of 'on', 'true', 'off', 'false' as a \"\n"
          ],
          "name": "stderr"
        },
        {
          "output_type": "display_data",
          "data": {
            "image/png": "[encoded data removed]",
            "text/plain": [
              "<Figure size 432x288 with 1 Axes>"
            ]
          },
          "metadata": {
            "tags": []
          }
        },
        {
          "output_type": "stream",
          "text": [
            "7   9\n"
          ],
          "name": "stdout"
        },
        {
          "output_type": "display_data",
          "data": {
            "image/png": "[encoded data removed]",
            "text/plain": [
              "<Figure size 432x288 with 1 Axes>"
            ]
          },
          "metadata": {
            "tags": []
          }
        },
        {
          "output_type": "stream",
          "text": [
            "1   0\n"
          ],
          "name": "stdout"
        },
        {
          "output_type": "display_data",
          "data": {
            "image/png": "[encoded data removed]",
            "text/plain": [
              "<Figure size 432x288 with 1 Axes>"
            ]
          },
          "metadata": {
            "tags": []
          }
        },
        {
          "output_type": "stream",
          "text": [
            "1   0\n"
          ],
          "name": "stdout"
        },
        {
          "output_type": "display_data",
          "data": {
            "image/png": "[encoded data removed]",
            "text/plain": [
              "<Figure size 432x288 with 1 Axes>"
            ]
          },
          "metadata": {
            "tags": []
          }
        },
        {
          "output_type": "stream",
          "text": [
            "1   0\n"
          ],
          "name": "stdout"
        },
        {
          "output_type": "display_data",
          "data": {
            "image/png": "[encoded data removed]",
            "text/plain": [
              "<Figure size 432x288 with 1 Axes>"
            ]
          },
          "metadata": {
            "tags": []
          }
        },
        {
          "output_type": "stream",
          "text": [
            "7   9\n"
          ],
          "name": "stdout"
        },
        {
          "output_type": "display_data",
          "data": {
            "image/png": "[encoded data removed]",
            "text/plain": [
              "<Figure size 432x288 with 1 Axes>"
            ]
          },
          "metadata": {
            "tags": []
          }
        },
        {
          "output_type": "stream",
          "text": [
            "4   9\n"
          ],
          "name": "stdout"
        },
        {
          "output_type": "display_data",
          "data": {
            "image/png": "[encoded data removed]",
            "text/plain": [
              "<Figure size 432x288 with 1 Axes>"
            ]
          },
          "metadata": {
            "tags": []
          }
        },
        {
          "output_type": "stream",
          "text": [
            "5   2\n"
          ],
          "name": "stdout"
        },
        {
          "output_type": "display_data",
          "data": {
            "image/png": "[encoded data removed]",
            "text/plain": [
              "<Figure size 432x288 with 1 Axes>"
            ]
          },
          "metadata": {
            "tags": []
          }
        },
        {
          "output_type": "stream",
          "text": [
            "5   2\n"
          ],
          "name": "stdout"
        },
        {
          "output_type": "display_data",
          "data": {
            "image/png": "[encoded data removed]",
            "text/plain": [
              "<Figure size 432x288 with 1 Axes>"
            ]
          },
          "metadata": {
            "tags": []
          }
        },
        {
          "output_type": "stream",
          "text": [
            "4   9\n"
          ],
          "name": "stdout"
        },
        {
          "output_type": "display_data",
          "data": {
            "image/png": "[encoded data removed]",
            "text/plain": [
              "<Figure size 432x288 with 1 Axes>"
            ]
          },
          "metadata": {
            "tags": []
          }
        },
        {
          "output_type": "stream",
          "text": [
            "5   2\n"
          ],
          "name": "stdout"
        },
        {
          "output_type": "display_data",
          "data": {
            "image/png": "[encoded data removed]",
            "text/plain": [
              "<Figure size 432x288 with 1 Axes>"
            ]
          },
          "metadata": {
            "tags": []
          }
        },
        {
          "output_type": "stream",
          "text": [
            "8   9\n"
          ],
          "name": "stdout"
        },
        {
          "output_type": "display_data",
          "data": {
            "image/png": "[encoded data removed]",
            "text/plain": [
              "<Figure size 432x288 with 1 Axes>"
            ]
          },
          "metadata": {
            "tags": []
          }
        },
        {
          "output_type": "stream",
          "text": [
            "8   5\n"
          ],
          "name": "stdout"
        },
        {
          "output_type": "display_data",
          "data": {
            "image/png": "[encoded data removed]",
            "text/plain": [
              "<Figure size 432x288 with 1 Axes>"
            ]
          },
          "metadata": {
            "tags": []
          }
        },
        {
          "output_type": "stream",
          "text": [
            "8   9\n"
          ],
          "name": "stdout"
        },
        {
          "output_type": "display_data",
          "data": {
            "image/png": "[encoded data removed]",
            "text/plain": [
              "<Figure size 432x288 with 1 Axes>"
            ]
          },
          "metadata": {
            "tags": []
          }
        },
        {
          "output_type": "stream",
          "text": [
            "8   0\n"
          ],
          "name": "stdout"
        },
        {
          "output_type": "display_data",
          "data": {
            "image/png": "[encoded data removed]",
            "text/plain": [
              "<Figure size 432x288 with 1 Axes>"
            ]
          },
          "metadata": {
            "tags": []
          }
        },
        {
          "output_type": "stream",
          "text": [
            "3   2\n"
          ],
          "name": "stdout"
        },
        {
          "output_type": "display_data",
          "data": {
            "image/png": "[encoded data removed]",
            "text/plain": [
              "<Figure size 432x288 with 1 Axes>"
            ]
          },
          "metadata": {
            "tags": []
          }
        },
        {
          "output_type": "stream",
          "text": [
            "9   4\n"
          ],
          "name": "stdout"
        },
        {
          "output_type": "display_data",
          "data": {
            "image/png": "[encoded data removed]",
            "text/plain": [
              "<Figure size 432x288 with 1 Axes>"
            ]
          },
          "metadata": {
            "tags": []
          }
        },
        {
          "output_type": "stream",
          "text": [
            "9   4\n"
          ],
          "name": "stdout"
        },
        {
          "output_type": "display_data",
          "data": {
            "image/png": "[encoded data removed]",
            "text/plain": [
              "<Figure size 432x288 with 1 Axes>"
            ]
          },
          "metadata": {
            "tags": []
          }
        },
        {
          "output_type": "stream",
          "text": [
            "9   4\n"
          ],
          "name": "stdout"
        },
        {
          "output_type": "display_data",
          "data": {
            "image/png": "[encoded data removed]",
            "text/plain": [
              "<Figure size 432x288 with 1 Axes>"
            ]
          },
          "metadata": {
            "tags": []
          }
        },
        {
          "output_type": "stream",
          "text": [
            "7   9\n"
          ],
          "name": "stdout"
        },
        {
          "output_type": "display_data",
          "data": {
            "image/png": "[encoded data removed]",
            "text/plain": [
              "<Figure size 432x288 with 1 Axes>"
            ]
          },
          "metadata": {
            "tags": []
          }
        },
        {
          "output_type": "stream",
          "text": [
            "7   9\n"
          ],
          "name": "stdout"
        },
        {
          "output_type": "display_data",
          "data": {
            "image/png": "[encoded data removed]",
            "text/plain": [
              "<Figure size 432x288 with 1 Axes>"
            ]
          },
          "metadata": {
            "tags": []
          }
        },
        {
          "output_type": "stream",
          "text": [
            "7   9\n"
          ],
          "name": "stdout"
        },
        {
          "output_type": "display_data",
          "data": {
            "image/png": "[encoded data removed]",
            "text/plain": [
              "<Figure size 432x288 with 1 Axes>"
            ]
          },
          "metadata": {
            "tags": []
          }
        },
        {
          "output_type": "stream",
          "text": [
            "5   0\n"
          ],
          "name": "stdout"
        },
        {
          "output_type": "display_data",
          "data": {
            "image/png": "[encoded data removed]",
            "text/plain": [
              "<Figure size 432x288 with 1 Axes>"
            ]
          },
          "metadata": {
            "tags": []
          }
        },
        {
          "output_type": "stream",
          "text": [
            "5   0\n"
          ],
          "name": "stdout"
        },
        {
          "output_type": "display_data",
          "data": {
            "image/png": "[encoded data removed]",
            "text/plain": [
              "<Figure size 432x288 with 1 Axes>"
            ]
          },
          "metadata": {
            "tags": []
          }
        },
        {
          "output_type": "stream",
          "text": [
            "5   0\n"
          ],
          "name": "stdout"
        },
        {
          "output_type": "display_data",
          "data": {
            "image/png": "[encoded data removed]",
            "text/plain": [
              "<Figure size 432x288 with 1 Axes>"
            ]
          },
          "metadata": {
            "tags": []
          }
        },
        {
          "output_type": "stream",
          "text": [
            "8   5\n"
          ],
          "name": "stdout"
        },
        {
          "output_type": "display_data",
          "data": {
            "image/png": "[encoded data removed]",
            "text/plain": [
              "<Figure size 432x288 with 1 Axes>"
            ]
          },
          "metadata": {
            "tags": []
          }
        },
        {
          "output_type": "stream",
          "text": [
            "8   5\n"
          ],
          "name": "stdout"
        },
        {
          "output_type": "display_data",
          "data": {
            "image/png": "[encoded data removed]",
            "text/plain": [
              "<Figure size 432x288 with 1 Axes>"
            ]
          },
          "metadata": {
            "tags": []
          }
        },
        {
          "output_type": "stream",
          "text": [
            "8   5\n"
          ],
          "name": "stdout"
        },
        {
          "output_type": "display_data",
          "data": {
            "image/png": "[encoded data removed]",
            "text/plain": [
              "<Figure size 432x288 with 1 Axes>"
            ]
          },
          "metadata": {
            "tags": []
          }
        },
        {
          "output_type": "stream",
          "text": [
            "5   0\n"
          ],
          "name": "stdout"
        },
        {
          "output_type": "display_data",
          "data": {
            "image/png": "[encoded data removed]",
            "text/plain": [
              "<Figure size 432x288 with 1 Axes>"
            ]
          },
          "metadata": {
            "tags": []
          }
        },
        {
          "output_type": "stream",
          "text": [
            "9   5\n"
          ],
          "name": "stdout"
        },
        {
          "output_type": "display_data",
          "data": {
            "image/png": "[encoded data removed]",
            "text/plain": [
              "<Figure size 432x288 with 1 Axes>"
            ]
          },
          "metadata": {
            "tags": []
          }
        },
        {
          "output_type": "stream",
          "text": [
            "4   9\n"
          ],
          "name": "stdout"
        },
        {
          "output_type": "display_data",
          "data": {
            "image/png": "[encoded data removed]",
            "text/plain": [
              "<Figure size 432x288 with 1 Axes>"
            ]
          },
          "metadata": {
            "tags": []
          }
        },
        {
          "output_type": "stream",
          "text": [
            "0   5\n"
          ],
          "name": "stdout"
        },
        {
          "output_type": "display_data",
          "data": {
            "image/png": "[encoded data removed]",
            "text/plain": [
              "<Figure size 432x288 with 1 Axes>"
            ]
          },
          "metadata": {
            "tags": []
          }
        },
        {
          "output_type": "stream",
          "text": [
            "8   0\n"
          ],
          "name": "stdout"
        },
        {
          "output_type": "display_data",
          "data": {
            "image/png": "[encoded data removed]",
            "text/plain": [
              "<Figure size 432x288 with 1 Axes>"
            ]
          },
          "metadata": {
            "tags": []
          }
        },
        {
          "output_type": "stream",
          "text": [
            "8   0\n"
          ],
          "name": "stdout"
        },
        {
          "output_type": "display_data",
          "data": {
            "image/png": "[encoded data removed]",
            "text/plain": [
              "<Figure size 432x288 with 1 Axes>"
            ]
          },
          "metadata": {
            "tags": []
          }
        },
        {
          "output_type": "stream",
          "text": [
            "8   0\n"
          ],
          "name": "stdout"
        },
        {
          "output_type": "display_data",
          "data": {
            "image/png": "[encoded data removed]",
            "text/plain": [
              "<Figure size 432x288 with 1 Axes>"
            ]
          },
          "metadata": {
            "tags": []
          }
        },
        {
          "output_type": "stream",
          "text": [
            "6   8\n"
          ],
          "name": "stdout"
        },
        {
          "output_type": "display_data",
          "data": {
            "image/png": "[encoded data removed]",
            "text/plain": [
              "<Figure size 432x288 with 1 Axes>"
            ]
          },
          "metadata": {
            "tags": []
          }
        },
        {
          "output_type": "stream",
          "text": [
            "7   0\n"
          ],
          "name": "stdout"
        },
        {
          "output_type": "display_data",
          "data": {
            "image/png": "[encoded data removed]",
            "text/plain": [
              "<Figure size 432x288 with 1 Axes>"
            ]
          },
          "metadata": {
            "tags": []
          }
        },
        {
          "output_type": "stream",
          "text": [
            "7   0\n"
          ],
          "name": "stdout"
        },
        {
          "output_type": "display_data",
          "data": {
            "image/png": "[encoded data removed]",
            "text/plain": [
              "<Figure size 432x288 with 1 Axes>"
            ]
          },
          "metadata": {
            "tags": []
          }
        },
        {
          "output_type": "stream",
          "text": [
            "200 162 0.81\n"
          ],
          "name": "stdout"
        }
      ]
    },
    {
      "cell_type": "code",
      "metadata": {
        "id": "R9uAiM7zF-sb",
        "colab_type": "code",
        "colab": {}
      },
      "source": [
        "#iter(federated_test_data[1]).next()['x'][1].numpy()\n",
        "#input_shape\n",
        "#input_data.numpy()"
      ],
      "execution_count": 0,
      "outputs": []
    },
    {
      "cell_type": "code",
      "metadata": {
        "id": "gWMhAkWyEvsW",
        "colab_type": "code",
        "colab": {}
      },
      "source": [
        ""
      ],
      "execution_count": 0,
      "outputs": []
    }
  ]
}